{
 "cells": [
  {
   "cell_type": "markdown",
   "metadata": {},
   "source": [
    "# Assignment III: Clustering and Classification of MEP's Tweets\n",
    "\n",
    "---\n",
    "\n",
    ">Konstantinos Kyrkos <br>\n",
    ">Registration Number p3351907 <br>\n",
    ">kkyrkos@aueb.gr"
   ]
  },
  {
   "cell_type": "markdown",
   "metadata": {},
   "source": [
    "This notebook provides my solutions for the third assignment for the Practical Data Science class at Data Science MSc at AUEB. <br>\n",
    "Bollow you will find the solution to all 3 parts of the assignment. <br>\n",
    "The only prerequisites for running the commands below are providing the retweets.csv file found in the following link and a config file named \"twitter_config.py\" which is used in order to connect and use the Twitter Api.\n",
    "https://www.clarin.si/repository/xmlui/handle/11356/1071#\n",
    "\n",
    "## Data Preparation\n"
   ]
  },
  {
   "cell_type": "markdown",
   "metadata": {},
   "source": [
    "We start by importing the libraries we will use in the following exercises."
   ]
  },
  {
   "cell_type": "code",
   "execution_count": 2,
   "metadata": {},
   "outputs": [],
   "source": [
    "import pandas as pd\n",
    "import numpy as np\n",
    "import tweepy\n",
    "import json\n",
    "from twitter_config import config\n",
    "from yellowbrick.cluster import KElbowVisualizer\n",
    "from sklearn.cluster import KMeans\n",
    "from sklearn import metrics\n",
    "from yellowbrick.cluster import SilhouetteVisualizer\n",
    "from sklearn.model_selection import train_test_split\n",
    "from sklearn import preprocessing\n",
    "from sklearn.linear_model import SGDClassifier\n",
    "from sklearn import metrics\n",
    "from sklearn.pipeline import Pipeline\n",
    "from sklearn.model_selection import cross_val_score\n",
    "from sklearn.metrics import classification_report, silhouette_score, confusion_matrix, accuracy_score\n",
    "from sklearn.model_selection import GridSearchCV\n",
    "from sklearn.svm import SVC\n",
    "from sklearn.tree import DecisionTreeRegressor\n",
    "from sklearn.model_selection import KFold\n",
    "from scipy.stats import sem\n",
    "from sklearn.ensemble import BaggingClassifier\n",
    "from sklearn.ensemble import ExtraTreesClassifier\n",
    "from scipy.stats import sem\n",
    "from sklearn.ensemble import RandomForestClassifier\n",
    "from sklearn.naive_bayes import GaussianNB\n",
    "from sklearn.dummy import DummyClassifier\n",
    "from sklearn.naive_bayes import MultinomialNB\n",
    "from yellowbrick.cluster import InterclusterDistance\n",
    "from sklearn.feature_extraction.text import TfidfTransformer\n",
    "import matplotlib.pyplot as plt\n",
    "import xgboost as xgb"
   ]
  },
  {
   "cell_type": "markdown",
   "metadata": {},
   "source": [
    "Next, we import the file we will use to extract the retweets and then we filter the data imported to keep only the tweets written in English."
   ]
  },
  {
   "cell_type": "code",
   "execution_count": 3,
   "metadata": {},
   "outputs": [],
   "source": [
    "data = pd.read_csv(\"retweets.csv\") \n",
    "data.head()\n",
    "\n",
    "data = data.loc[data['lang'] == 'en']\n"
   ]
  },
  {
   "cell_type": "markdown",
   "metadata": {},
   "source": [
    "We will use describe method to have an overview of the data we have to manage."
   ]
  },
  {
   "cell_type": "code",
   "execution_count": 4,
   "metadata": {},
   "outputs": [
    {
     "name": "stdout",
     "output_type": "stream",
     "text": [
      "         origUserId      origMepId  origMepGroupId  origMepCountryId  \\\n",
      "count  1.379600e+04   13796.000000    13796.000000      13796.000000   \n",
      "mean   4.823502e+08   73536.347202        3.516527         20.398884   \n",
      "std    7.144207e+08   50570.469713        1.997484          8.856113   \n",
      "min    9.234892e+06     840.000000        0.000000          0.000000   \n",
      "25%    1.976367e+07    4555.000000        1.000000         13.000000   \n",
      "50%    1.444836e+08   96907.000000        4.000000         27.000000   \n",
      "75%    8.198434e+08  124940.000000        6.000000         27.000000   \n",
      "max    3.520822e+09  130833.000000        8.000000         27.000000   \n",
      "\n",
      "       retweetUserId   retweetMepId  retweetMepGroupId  retweetMepCountryId  \\\n",
      "count   1.379600e+04   13796.000000       13796.000000          13796.00000   \n",
      "mean    6.329301e+08   99903.399681           3.536750             20.63185   \n",
      "std     8.118056e+08   40182.608699           2.035608              8.60228   \n",
      "min     9.234892e+06     840.000000           0.000000              0.00000   \n",
      "25%     1.061105e+08   96805.000000           1.000000             14.00000   \n",
      "50%     2.430972e+08  124896.000000           4.000000             26.00000   \n",
      "75%     8.290609e+08  124960.000000           6.000000             27.00000   \n",
      "max     3.889367e+09  134243.000000           8.000000             27.00000   \n",
      "\n",
      "        origTweetId  retweetTweetId  \n",
      "count  1.379600e+04    1.379600e+04  \n",
      "mean   6.070628e+17    6.073327e+17  \n",
      "std    4.869547e+16    4.848900e+16  \n",
      "min    2.204733e+17    5.176455e+17  \n",
      "25%    5.674471e+17    5.678041e+17  \n",
      "50%    6.082114e+17    6.082721e+17  \n",
      "75%    6.514254e+17    6.516432e+17  \n",
      "max    6.913697e+17    6.915363e+17  \n"
     ]
    }
   ],
   "source": [
    "print(data.describe())"
   ]
  },
  {
   "cell_type": "markdown",
   "metadata": {},
   "source": [
    "Next we set the parameters needed in order to access the tweeter api."
   ]
  },
  {
   "cell_type": "code",
   "execution_count": 5,
   "metadata": {},
   "outputs": [],
   "source": [
    "auth = tweepy.OAuthHandler(config['consumer_key'], config['consumer_secret'])\n",
    "auth.set_access_token(config['access_token'], config['access_token_secret'])\n",
    "\n",
    "api = tweepy.API(auth)"
   ]
  },
  {
   "cell_type": "markdown",
   "metadata": {},
   "source": [
    "At this point we can access the tweeter api using the call statuses_lookup and feeding it with 100 tweet ids per time. "
   ]
  },
  {
   "cell_type": "code",
   "execution_count": 6,
   "metadata": {},
   "outputs": [],
   "source": [
    "tweet_set = []\n",
    "entries = len(data.origTweetId)\n",
    "tweet_IDs = data.origTweetId\n",
    "\n",
    "try:\n",
    "    for i in range((entries // 100) + 1):\n",
    "        end_loc = min((i + 1) * 100, entries)\n",
    "        tweet_cds = tweet_IDs.iloc[i * 100:end_loc].tolist()\n",
    "        tweets = api.statuses_lookup(id_=tweet_cds)\n",
    "        tweet_set.append(tweets)\n",
    "    \n",
    "except tweepy.TweepError:\n",
    "    print ('Something went wrong, quitting...')\n"
   ]
  },
  {
   "cell_type": "markdown",
   "metadata": {},
   "source": [
    "Next, we want to remove the empty tweets from the ones we got and store them in a more usefull manner. After that we print one tweet to see its format."
   ]
  },
  {
   "cell_type": "code",
   "execution_count": 7,
   "metadata": {},
   "outputs": [
    {
     "name": "stdout",
     "output_type": "stream",
     "text": [
      "{'created_at': 'Mon Oct 06 09:05:14 +0000 2014', 'id': 519050739642286080, 'id_str': '519050739642286080', 'text': \"Lord Hill's written answers to EP are now on my blog. No transparency on his lobbying past. Shame! http://t.co/OT7TGKGDek #EPhearings2014\", 'truncated': False, 'entities': {'hashtags': [{'text': 'EPhearings2014', 'indices': [122, 137]}], 'symbols': [], 'user_mentions': [], 'urls': [{'url': 'http://t.co/OT7TGKGDek', 'expanded_url': 'http://www.sven-giegold.de/2014/antworten-der-kommissionskandidatinnen', 'display_url': 'sven-giegold.de/2014/antworten…', 'indices': [99, 121]}]}, 'source': '<a href=\"http://twitter.com\" rel=\"nofollow\">Twitter Web Client</a>', 'in_reply_to_status_id': None, 'in_reply_to_status_id_str': None, 'in_reply_to_user_id': None, 'in_reply_to_user_id_str': None, 'in_reply_to_screen_name': None, 'user': {'id': 16705726, 'id_str': '16705726', 'name': 'Sven Giegold', 'screen_name': 'sven_giegold', 'location': 'Düsseldorf', 'description': 'Spitzenkandidat von Bündnis 90/Die Grünen für die Europawahl. Demokratie, EU-Wirtschafts- & Finanzmarktpolitik, Solidarische Ökonomie, Green New Deal, NRW-LaVo.', 'url': 'https://t.co/BlxwiKBPnd', 'entities': {'url': {'urls': [{'url': 'https://t.co/BlxwiKBPnd', 'expanded_url': 'http://www.sven-giegold.de', 'display_url': 'sven-giegold.de', 'indices': [0, 23]}]}, 'description': {'urls': []}}, 'protected': False, 'followers_count': 40232, 'friends_count': 782, 'listed_count': 1144, 'created_at': 'Sun Oct 12 07:22:18 +0000 2008', 'favourites_count': 2271, 'utc_offset': None, 'time_zone': None, 'geo_enabled': True, 'verified': True, 'statuses_count': 11654, 'lang': None, 'contributors_enabled': False, 'is_translator': False, 'is_translation_enabled': False, 'profile_background_color': '352726', 'profile_background_image_url': 'http://abs.twimg.com/images/themes/theme5/bg.gif', 'profile_background_image_url_https': 'https://abs.twimg.com/images/themes/theme5/bg.gif', 'profile_background_tile': False, 'profile_image_url': 'http://pbs.twimg.com/profile_images/1604429416/sg_ism001_kl_normal.jpg', 'profile_image_url_https': 'https://pbs.twimg.com/profile_images/1604429416/sg_ism001_kl_normal.jpg', 'profile_banner_url': 'https://pbs.twimg.com/profile_banners/16705726/1558937393', 'profile_link_color': 'D02B55', 'profile_sidebar_border_color': '829D5E', 'profile_sidebar_fill_color': '99CC33', 'profile_text_color': '3E4415', 'profile_use_background_image': True, 'has_extended_profile': False, 'default_profile': False, 'default_profile_image': False, 'can_media_tag': True, 'followed_by': False, 'following': False, 'follow_request_sent': False, 'notifications': False, 'translator_type': 'none'}, 'geo': None, 'coordinates': None, 'place': None, 'contributors': None, 'is_quote_status': False, 'retweet_count': 32, 'favorite_count': 6, 'favorited': False, 'retweeted': False, 'possibly_sensitive': False, 'lang': 'en'}\n"
     ]
    }
   ],
   "source": [
    "n_tweets = tweet_set\n",
    "filtered_tweets = []\n",
    "\n",
    "for tweet_group in n_tweets: \n",
    "    for tweet in tweet_group:\n",
    "        if not (tweet._json['text'].isspace()):\n",
    "            filtered_tweets.append(tweet._json)\n",
    "        \n",
    "print(filtered_tweets[0])\n"
   ]
  },
  {
   "cell_type": "markdown",
   "metadata": {},
   "source": [
    "Now we will put the tweets we found to a new column in a new copy of our original dataframe in order to keep the original for any later use. Then we will print the first 5 rows of the new dataframe in order to confirm that the new column has been added correctly."
   ]
  },
  {
   "cell_type": "code",
   "execution_count": 8,
   "metadata": {},
   "outputs": [
    {
     "name": "stdout",
     "output_type": "stream",
     "text": [
      "    origUserId origUserScreenName  origMepId    origMepName  origMepGroupId  \\\n",
      "3     19017675       Nigel_Farage       4525   Nigel FARAGE               6   \n",
      "5     17675072       MartinSchulz       1911  Martin SCHULZ               1   \n",
      "11    17675072       MartinSchulz       1911  Martin SCHULZ               1   \n",
      "12   744743599           Tim_Aker      99650       Tim AKER               6   \n",
      "13   744743599           Tim_Aker      99650       Tim AKER               6   \n",
      "\n",
      "   origMepGroupShort  origMepCountryId origMepCountryShort  retweetUserId  \\\n",
      "3               EFDD                27                 GBR      121171051   \n",
      "5                S&D                10                 DEU     1668992125   \n",
      "11               S&D                10                 DEU       21648649   \n",
      "12              EFDD                27                 GBR      121171051   \n",
      "13              EFDD                27                 GBR       19017675   \n",
      "\n",
      "   retweetUserScreenName  ...  retweetMepGroupId retweetMepGroupShort  \\\n",
      "3         MargotLJParker  ...                  6                 EFDD   \n",
      "5          NathanGillMEP  ...                  6                 EFDD   \n",
      "11         maritaulvskog  ...                  1                  S&D   \n",
      "12        MargotLJParker  ...                  6                 EFDD   \n",
      "13          Nigel_Farage  ...                  6                 EFDD   \n",
      "\n",
      "    retweetMepCountryId retweetMepCountryShort  \\\n",
      "3                    27                    GBR   \n",
      "5                    27                    GBR   \n",
      "11                   26                    SWE   \n",
      "12                   27                    GBR   \n",
      "13                   27                    GBR   \n",
      "\n",
      "                     origCreatedAt         origTweetId  \\\n",
      "3   Wed Jul 04 11:05:03 +0000 2012  220473289259233285   \n",
      "5   Fri Jul 05 08:00:23 +0000 2013  353060776707235841   \n",
      "11  Sat May 17 12:47:17 +0000 2014  467647542378123264   \n",
      "12  Wed May 28 16:47:44 +0000 2014  471694322472353793   \n",
      "13  Wed May 28 16:47:44 +0000 2014  471694322472353793   \n",
      "\n",
      "                  retweetCreatedAt      retweetTweetId lang  \\\n",
      "3   Sun Dec 07 21:46:00 +0000 2014  541710240014942209   en   \n",
      "5   Thu Jun 18 08:52:51 +0000 2015  611456527409524736   en   \n",
      "11  Wed Sep 16 09:15:06 +0000 2015  644077036022165504   en   \n",
      "12  Thu Dec 04 22:21:10 +0000 2014  540631925145493504   en   \n",
      "13  Sun Mar 29 18:53:32 +0000 2015  582254277122473984   en   \n",
      "\n",
      "                                                Tweet  \n",
      "3   Euro Parliament votes overwhelmingly to reject...  \n",
      "5   US have one currency, one Central Bank and one...  \n",
      "11  More jobs for young people is my top priority ...  \n",
      "12  Vote #Labour, get Tory. Vote Tory, get Labour....  \n",
      "13  Vote #Labour, get Tory. Vote Tory, get Labour....  \n",
      "\n",
      "[5 rows x 22 columns]\n"
     ]
    }
   ],
   "source": [
    "data_n = data\n",
    "\n",
    "data_n['Tweet'] = ''\n",
    "\n",
    "for tweet in filtered_tweets:\n",
    "    data_n.loc[data_n['origTweetId'] == tweet['id'], ['Tweet']] = tweet['text']\n",
    "\n",
    "print(data_n.head())"
   ]
  },
  {
   "cell_type": "markdown",
   "metadata": {},
   "source": [
    "After noticing that some of the Tweets contain a url which clearly means nothing for our model we can simply remove it using a regular expression."
   ]
  },
  {
   "cell_type": "code",
   "execution_count": 9,
   "metadata": {},
   "outputs": [],
   "source": [
    "import re\n",
    "def removeUrl(inputTweet):\n",
    "    return re.sub(r\"http\\S+\", \"\", inputTweet, flags=re.MULTILINE)\n",
    "\n",
    "data_n['Tweet'] = data_n['Tweet'].apply(lambda x: removeUrl(x))"
   ]
  },
  {
   "cell_type": "markdown",
   "metadata": {},
   "source": [
    "Next, in order to clear our dataframe, we will remove the rows which have empty tweet text and we will print the length of it before and after the process in order to see whether our work have given any results."
   ]
  },
  {
   "cell_type": "code",
   "execution_count": 10,
   "metadata": {},
   "outputs": [
    {
     "name": "stdout",
     "output_type": "stream",
     "text": [
      "13796\n",
      "12932\n"
     ]
    }
   ],
   "source": [
    "n_data_n = data_n\n",
    "print(len(n_data_n))\n",
    "n_data_n['Tweet'].replace('', np.nan, inplace=True)\n",
    "n_data_n.dropna(subset=['Tweet'], inplace=True)\n",
    "print(len(n_data_n))\n"
   ]
  },
  {
   "cell_type": "markdown",
   "metadata": {},
   "source": [
    "Our next move is to group our results by the group of the MEP that posted each tweet."
   ]
  },
  {
   "cell_type": "code",
   "execution_count": 11,
   "metadata": {},
   "outputs": [
    {
     "name": "stdout",
     "output_type": "stream",
     "text": [
      "<pandas.core.groupby.generic.DataFrameGroupBy object at 0x000001F798EA3898>\n"
     ]
    }
   ],
   "source": [
    "grouped = n_data_n.groupby('origMepGroupShort')\n",
    "\n",
    "print(grouped)"
   ]
  },
  {
   "cell_type": "markdown",
   "metadata": {
    "scrolled": false
   },
   "source": [
    "Then we remove the groups which have less than 50 tweets and print the new length of the dataframe to see whether this process has made any difference in our dataset."
   ]
  },
  {
   "cell_type": "code",
   "execution_count": 12,
   "metadata": {},
   "outputs": [
    {
     "name": "stdout",
     "output_type": "stream",
     "text": [
      "12908\n"
     ]
    }
   ],
   "source": [
    "final = grouped.filter(lambda x: len(x) > 50)\n",
    "print(len(final))"
   ]
  },
  {
   "cell_type": "markdown",
   "metadata": {},
   "source": [
    "## Clustering"
   ]
  },
  {
   "cell_type": "markdown",
   "metadata": {},
   "source": [
    "For this part of the exercise, we want cluster the tweets based on their text using k-means."
   ]
  },
  {
   "cell_type": "markdown",
   "metadata": {},
   "source": [
    "We start by using the count vectorizer provided from sklearn."
   ]
  },
  {
   "cell_type": "code",
   "execution_count": 13,
   "metadata": {},
   "outputs": [
    {
     "data": {
      "text/plain": [
       "CountVectorizer(analyzer='word', binary=False, decode_error='strict',\n",
       "                dtype=<class 'numpy.int64'>, encoding='utf-8', input='content',\n",
       "                lowercase=True, max_df=1.0, max_features=None, min_df=1,\n",
       "                ngram_range=(1, 1), preprocessor=None, stop_words=None,\n",
       "                strip_accents=None, token_pattern='(?u)\\\\b\\\\w\\\\w+\\\\b',\n",
       "                tokenizer=None, vocabulary=None)"
      ]
     },
     "execution_count": 13,
     "metadata": {},
     "output_type": "execute_result"
    }
   ],
   "source": [
    "from sklearn.feature_extraction.text import CountVectorizer\n",
    "\n",
    "vectorizer = CountVectorizer()\n",
    "vectorizer"
   ]
  },
  {
   "cell_type": "markdown",
   "metadata": {},
   "source": [
    "Now using the CountVectorizer from above we will create a bag of words which we will use next for k-means. We convert everything to lowercase, use min_df=10, max_df=0.5 and remove all English stopwords."
   ]
  },
  {
   "cell_type": "code",
   "execution_count": 14,
   "metadata": {},
   "outputs": [
    {
     "data": {
      "text/plain": [
       "array([[0, 0, 0, ..., 0, 0, 0],\n",
       "       [0, 0, 0, ..., 0, 0, 0],\n",
       "       [0, 0, 0, ..., 0, 0, 0],\n",
       "       ...,\n",
       "       [0, 0, 0, ..., 0, 0, 0],\n",
       "       [0, 0, 0, ..., 0, 0, 0],\n",
       "       [0, 0, 0, ..., 0, 0, 0]], dtype=int64)"
      ]
     },
     "execution_count": 14,
     "metadata": {},
     "output_type": "execute_result"
    }
   ],
   "source": [
    "tf_vectorizer = CountVectorizer(strip_accents='unicode',\n",
    "                                lowercase=True,\n",
    "                                max_df=0.5, \n",
    "                                min_df=10,\n",
    "                                stop_words='english')\n",
    "\n",
    "X = tf_vectorizer.fit_transform(final['Tweet']).toarray()\n",
    "X"
   ]
  },
  {
   "cell_type": "markdown",
   "metadata": {},
   "source": [
    "Next, we use the elbow method, to investigate the best number of clusters for our data."
   ]
  },
  {
   "cell_type": "code",
   "execution_count": 66,
   "metadata": {},
   "outputs": [
    {
     "data": {
      "image/png": "[encoded data removed]",
      "text/plain": [
       "<Figure size 432x288 with 2 Axes>"
      ]
     },
     "metadata": {},
     "output_type": "display_data"
    },
    {
     "data": {
      "text/plain": [
       "<matplotlib.axes._subplots.AxesSubplot at 0x2123680b898>"
      ]
     },
     "execution_count": 66,
     "metadata": {},
     "output_type": "execute_result"
    }
   ],
   "source": [
    "kmeans = KMeans(random_state=42)\n",
    "visualizer = KElbowVisualizer(kmeans, k=(1,11))\n",
    "\n",
    "visualizer.fit(X)\n",
    "visualizer.show()"
   ]
  },
  {
   "cell_type": "markdown",
   "metadata": {},
   "source": [
    "The elbow method suggests using 6 clusters for our data but to be sure and validate this result we  can try the silhouette method in order to verify the results we got and settle on how many clusters we will use."
   ]
  },
  {
   "cell_type": "code",
   "execution_count": 15,
   "metadata": {},
   "outputs": [
    {
     "name": "stdout",
     "output_type": "stream",
     "text": [
      "For n_clusters = 2 The average silhouette_score is : 0.04911702862067595\n",
      "For n_clusters = 3 The average silhouette_score is : 0.04354153449388772\n",
      "For n_clusters = 4 The average silhouette_score is : 0.030265907840674428\n",
      "For n_clusters = 5 The average silhouette_score is : 0.030936327139231758\n",
      "For n_clusters = 6 The average silhouette_score is : 0.029887949595709465\n",
      "For n_clusters = 7 The average silhouette_score is : 0.021122910411837212\n",
      "For n_clusters = 8 The average silhouette_score is : 0.012934751461754435\n",
      "For n_clusters = 9 The average silhouette_score is : 0.013130592294198872\n"
     ]
    },
    {
     "data": {
      "image/png": "[encoded data removed]",
      "text/plain": [
       "<Figure size 720x2880 with 8 Axes>"
      ]
     },
     "metadata": {
      "needs_background": "light"
     },
     "output_type": "display_data"
    }
   ],
   "source": [
    "\n",
    "plt.figure(figsize=(2 * 5,  10 * 4))\n",
    "silhouette_scores = []\n",
    "scores = {}\n",
    "for n_clusters in range(2, 10):\n",
    "    plt.subplot(10, 2, n_clusters - 1)\n",
    "    kmeans = KMeans(n_clusters, random_state=42)\n",
    "    visualizer = SilhouetteVisualizer(kmeans, colors='yellowbrick')\n",
    "    visualizer.fit(X)\n",
    "    scores[n_clusters] = visualizer.silhouette_score_\n",
    "    plt.title(f'clusters: {n_clusters} score: {visualizer.silhouette_score_}')\n",
    "    cluster_labels = kmeans.fit_predict(X)\n",
    "    silhouette_avg = silhouette_score(X, cluster_labels)\n",
    "    silhouette_scores.append(silhouette_avg)\n",
    "    print(\"For n_clusters =\", n_clusters,\n",
    "          \"The average silhouette_score is :\", silhouette_avg)"
   ]
  },
  {
   "cell_type": "markdown",
   "metadata": {},
   "source": [
    "Here we can see that silhouette method suggests using 2 clusters, but elbow method suggested 6 so we have to try another approach in order to decide the cluster number. In order to decide we will use the silhouette method scores in order to plot the along with their respected cluster sizes. "
   ]
  },
  {
   "cell_type": "code",
   "execution_count": 19,
   "metadata": {},
   "outputs": [
    {
     "data": {
      "text/plain": [
       "[<matplotlib.lines.Line2D at 0x243d0fa5320>]"
      ]
     },
     "execution_count": 19,
     "metadata": {},
     "output_type": "execute_result"
    },
    {
     "data": {
      "image/png": "[encoded data removed]",
      "text/plain": [
       "<Figure size 432x288 with 1 Axes>"
      ]
     },
     "metadata": {
      "needs_background": "light"
     },
     "output_type": "display_data"
    }
   ],
   "source": [
    "size = range(2, 10)\n",
    "plt.plot(size, silhouette_scores)"
   ]
  },
  {
   "cell_type": "markdown",
   "metadata": {},
   "source": [
    "Here we can see that the score of the method keeps droping until the point of 4 and 6 clusters. These are the points where we could draw a vertical line indicating that this would be the point we would stop searching for the best cluster number. Since elbow method too suggested using 6 cluster we will try spliting our data into 6 clusters."
   ]
  },
  {
   "cell_type": "markdown",
   "metadata": {},
   "source": [
    "Now we will visualize the clusters using Yellowbrick's InterclusterDistance in order to have a clear view of how the data are clustered."
   ]
  },
  {
   "cell_type": "code",
   "execution_count": 24,
   "metadata": {},
   "outputs": [
    {
     "data": {
      "image/png": "[encoded data removed]",
      "text/plain": [
       "<Figure size 432x288 with 2 Axes>"
      ]
     },
     "metadata": {
      "needs_background": "light"
     },
     "output_type": "display_data"
    },
    {
     "data": {
      "text/plain": [
       "<matplotlib.axes._subplots.AxesSubplot at 0x243d1217668>"
      ]
     },
     "execution_count": 24,
     "metadata": {},
     "output_type": "execute_result"
    }
   ],
   "source": [
    "model = KMeans(6, random_state=42)\n",
    "visualizer = InterclusterDistance(model)\n",
    "\n",
    "visualizer.fit(X)        \n",
    "visualizer.show() "
   ]
  },
  {
   "cell_type": "markdown",
   "metadata": {},
   "source": [
    "From the last plot we can see that our model does a good job clustering these tweets into 6 clusters, creating only on mediocre conflict between clusters 4 and 5. Next we can print the centers of our clusters."
   ]
  },
  {
   "cell_type": "code",
   "execution_count": 25,
   "metadata": {},
   "outputs": [
    {
     "name": "stdout",
     "output_type": "stream",
     "text": [
      "[[-8.67361738e-18  4.69483568e-03  7.04225352e-03 ...  6.72205347e-18\n",
      "  -1.19262239e-18  7.04225352e-03]\n",
      " [-2.60208521e-18  1.70854271e-02  2.01005025e-03 ... -1.92987987e-17\n",
      "  -1.07336015e-17  1.00502513e-03]\n",
      " [ 2.09753540e-03  1.20608285e-02  6.29260619e-03 ...  1.57315155e-03\n",
      "   1.04876770e-03  2.09753540e-03]\n",
      " [ 8.47457627e-03  5.64971751e-03  1.12994350e-02 ...  6.07153217e-18\n",
      "   2.27682456e-18  5.85469173e-18]\n",
      " [ 2.89855072e-03  1.04084321e-02  5.66534914e-03 ...  1.05401845e-03\n",
      "   7.90513834e-04  1.71277997e-03]\n",
      " [ 1.83374083e-03  4.88997555e-03  4.88997555e-03 ...  1.22249389e-03\n",
      "   1.22249389e-03  1.22249389e-03]]\n"
     ]
    }
   ],
   "source": [
    "centers = model.cluster_centers_\n",
    "print(centers)"
   ]
  },
  {
   "cell_type": "markdown",
   "metadata": {},
   "source": [
    "In order to find the top 30 features per cluster we have to find for each cluster centroid, which token vectors have the largest projection onto that centroid and then find the corresponding terms."
   ]
  },
  {
   "cell_type": "code",
   "execution_count": 26,
   "metadata": {},
   "outputs": [
    {
     "name": "stdout",
     "output_type": "stream",
     "text": [
      "Cluster 0: meps labour eu amp today vote uk eurolabour support ttip action tory parliament meeting calling join voted energy steel help just work say saveoursteel ukip lnbdublin food cameron theprogressives debate\n",
      "------------------------------------------------------------------------------------\n",
      "Cluster 1: ukip vote labour today party nhs people amp eu uk poll just election policy lab immigration voters tories mep national support farage campaign britain great want tory new real voting\n",
      "------------------------------------------------------------------------------------\n",
      "Cluster 2: eu uk leave cameron referendum people britain today need european membership want just migration europe trade eppgroup turkey support vote policy borders says right member control campaign states immigration labour\n",
      "------------------------------------------------------------------------------------\n",
      "Cluster 3: debate eu amp ttip today vote european live parliament ep europarl_en digital votes plenary looking theprogressives need forward citizens aldegroup tonight greece ukip just want good key right come people\n",
      "------------------------------------------------------------------------------------\n",
      "Cluster 4: eppgroup today european europe great ep people meeting parliament good new europarl_en vote ttip support just greece need theprogressives uk work right thanks labour gt year day aldegroup digital refugees\n",
      "------------------------------------------------------------------------------------\n",
      "Cluster 5: amp eu eppgroup europe good european meeting today need people ttip ep uk migration great vote theprogressives support greece new rights parliament work jobs refugees trade eurolabour mep stop europarl_en\n",
      "------------------------------------------------------------------------------------\n"
     ]
    }
   ],
   "source": [
    "features = tf_vectorizer.get_feature_names()\n",
    "relevant_labels = list(set(model.labels_))\n",
    "centroids = model.cluster_centers_.argsort()[:,::-1]\n",
    "for this_label in relevant_labels:\n",
    "    print('Cluster {}:'.format(this_label), end='')\n",
    "    for ind in centroids[this_label, :30]:\n",
    "        print(' {}'.format(features[ind]), end='')\n",
    "    print('')\n",
    "    print('------------------------------------------------------------------------------------')"
   ]
  },
  {
   "cell_type": "markdown",
   "metadata": {},
   "source": [
    "The words make sense because they are all possible and common words a member of a european political party would use. But with a quick look one could not really tell which cluster represents which party or another possible way in which the tweets could have been clustered."
   ]
  },
  {
   "cell_type": "markdown",
   "metadata": {},
   "source": [
    "## Classification"
   ]
  },
  {
   "cell_type": "markdown",
   "metadata": {},
   "source": [
    "For the purpose of this exercise we want to train at least two algorithms to learn to classify an unseen tweet. The target variable should be the political party of the original poster and the training features should be the original tweet's text."
   ]
  },
  {
   "cell_type": "markdown",
   "metadata": {},
   "source": [
    "We start by spliting our data into a training set and a testing set. We choose to keep the 80% of our data for training our model and 20% of them for testing it. We also transform our categorical variable which described the political party in which the member of the parliament who made the Tweet belongs to a numerical one in order to use it next in our algorithms."
   ]
  },
  {
   "cell_type": "code",
   "execution_count": 15,
   "metadata": {},
   "outputs": [
    {
     "name": "stderr",
     "output_type": "stream",
     "text": [
      "C:\\ProgramData\\Anaconda3\\lib\\site-packages\\pandas\\core\\generic.py:5208: SettingWithCopyWarning: \n",
      "A value is trying to be set on a copy of a slice from a DataFrame.\n",
      "Try using .loc[row_indexer,col_indexer] = value instead\n",
      "\n",
      "See the caveats in the documentation: http://pandas.pydata.org/pandas-docs/stable/user_guide/indexing.html#returning-a-view-versus-a-copy\n",
      "  self[name] = value\n"
     ]
    }
   ],
   "source": [
    "X = tf_vectorizer.fit_transform(final['Tweet']).toarray()\n",
    "tfidfconverter = TfidfTransformer()\n",
    "X = tfidfconverter.fit_transform(X).toarray()\n",
    "\n",
    "final.origMepGroupShort = pd.Categorical(final.origMepGroupShort)\n",
    "y = final[\"origMepGroupShort\"].cat.codes\n",
    "\n",
    "X_train, X_test, y_train, y_test = train_test_split(X, y, test_size=0.2, random_state=0)"
   ]
  },
  {
   "cell_type": "markdown",
   "metadata": {},
   "source": [
    "Now we will try various different algorithms for validating our data. We will use in each case cross validation in order to find the best parameters for the best algorithm for our case. <br>\n",
    "The first thing we will try is decision trees and more specifically random forest classification and extremely randomized trees in order to find how well the could fit our data."
   ]
  },
  {
   "cell_type": "code",
   "execution_count": 33,
   "metadata": {},
   "outputs": [
    {
     "name": "stdout",
     "output_type": "stream",
     "text": [
      "[[206   8  35  43   1  16  54]\n",
      " [ 21 102  63  10   1   3  46]\n",
      " [ 16   5 545   5   0  10  39]\n",
      " [ 26   5  14 315   0  12  58]\n",
      " [  6   2   1   3  34   2  20]\n",
      " [ 27   4  20  15   0 113  46]\n",
      " [ 39   6  87  27   0  10 461]]\n",
      "              precision    recall  f1-score   support\n",
      "\n",
      "           0       0.60      0.57      0.59       363\n",
      "           1       0.77      0.41      0.54       246\n",
      "           2       0.71      0.88      0.79       620\n",
      "           3       0.75      0.73      0.74       430\n",
      "           4       0.94      0.50      0.65        68\n",
      "           5       0.68      0.50      0.58       225\n",
      "           6       0.64      0.73      0.68       630\n",
      "\n",
      "    accuracy                           0.69      2582\n",
      "   macro avg       0.73      0.62      0.65      2582\n",
      "weighted avg       0.69      0.69      0.68      2582\n",
      "\n",
      "0.6878388845855926\n"
     ]
    }
   ],
   "source": [
    "classifier = RandomForestClassifier(n_estimators=100, random_state=0)\n",
    "classifier.fit(X_train, y_train) \n",
    "tree_pred = classifier.predict(X_test)\n",
    "\n",
    "print(confusion_matrix(y_test, tree_pred))\n",
    "print(classification_report(y_test, tree_pred))\n",
    "print(accuracy_score(y_test, tree_pred)) "
   ]
  },
  {
   "cell_type": "markdown",
   "metadata": {},
   "source": [
    "With accuracy of 0.687 we have found surely a good approch with our first try, but since this approach was the first, we really don't know how well we 've done, so it's important to keep trying other approaches."
   ]
  },
  {
   "cell_type": "code",
   "execution_count": 16,
   "metadata": {},
   "outputs": [
    {
     "name": "stdout",
     "output_type": "stream",
     "text": [
      "[[219   6  33  45   3  14  43]\n",
      " [ 18 109  64  13   0   4  38]\n",
      " [ 18   6 551   5   0  12  28]\n",
      " [ 23   6  13 322   1  14  51]\n",
      " [  3   1   5   5  36   2  16]\n",
      " [ 28   3  22  18   1 115  38]\n",
      " [ 35   7  75  34   0  17 462]]\n",
      "              precision    recall  f1-score   support\n",
      "\n",
      "           0       0.64      0.60      0.62       363\n",
      "           1       0.79      0.44      0.57       246\n",
      "           2       0.72      0.89      0.80       620\n",
      "           3       0.73      0.75      0.74       430\n",
      "           4       0.88      0.53      0.66        68\n",
      "           5       0.65      0.51      0.57       225\n",
      "           6       0.68      0.73      0.71       630\n",
      "\n",
      "    accuracy                           0.70      2582\n",
      "   macro avg       0.73      0.64      0.67      2582\n",
      "weighted avg       0.71      0.70      0.70      2582\n",
      "\n",
      "0.7025561580170411\n"
     ]
    }
   ],
   "source": [
    "extremely_rts = ExtraTreesClassifier(n_estimators=50, \n",
    "                                     max_depth=None,\n",
    "                                     min_samples_split=2, \n",
    "                                     random_state=42)\n",
    "\n",
    "scores = cross_val_score(extremely_rts, X_train, y_train, cv=5)\n",
    "extremely_rts.fit(X_train, y_train)\n",
    "extra_tree_pred = extremely_rts.predict(X_test)\n",
    "\n",
    "print(confusion_matrix(y_test, extra_tree_pred))\n",
    "print(classification_report(y_test, extra_tree_pred))\n",
    "print(accuracy_score(y_test, extra_tree_pred)) "
   ]
  },
  {
   "cell_type": "markdown",
   "metadata": {},
   "source": [
    "This time with extra trees classifier we have done even better with average score of 0.702! We keep trying other approaches in order to find the one which fits in our data best."
   ]
  },
  {
   "cell_type": "code",
   "execution_count": 35,
   "metadata": {},
   "outputs": [
    {
     "name": "stdout",
     "output_type": "stream",
     "text": [
      "[[189   0  53  52   1  12  56]\n",
      " [ 18  50 109  21   0   0  48]\n",
      " [  6   0 563  11   0   2  38]\n",
      " [ 29   2  24 302   0  10  63]\n",
      " [  7   0  14   5  18   2  22]\n",
      " [ 28   1  44  30   0  75  47]\n",
      " [ 37   2  79  30   0   8 474]]\n",
      "              precision    recall  f1-score   support\n",
      "\n",
      "           0       0.60      0.52      0.56       363\n",
      "           1       0.91      0.20      0.33       246\n",
      "           2       0.64      0.91      0.75       620\n",
      "           3       0.67      0.70      0.69       430\n",
      "           4       0.95      0.26      0.41        68\n",
      "           5       0.69      0.33      0.45       225\n",
      "           6       0.63      0.75      0.69       630\n",
      "\n",
      "    accuracy                           0.65      2582\n",
      "   macro avg       0.73      0.53      0.55      2582\n",
      "weighted avg       0.67      0.65      0.62      2582\n",
      "\n",
      "0.6471727343144849\n"
     ]
    }
   ],
   "source": [
    "text_clf = Pipeline([\n",
    "                     ('clf', MultinomialNB())\n",
    "                    ])\n",
    "\n",
    "text_clf.fit(X_train, y_train)\n",
    "multinom_pred = text_clf.predict(X_test)\n",
    "print(confusion_matrix(y_test, multinom_pred))\n",
    "print(classification_report(y_test, multinom_pred))\n",
    "print(accuracy_score(y_test, multinom_pred)) "
   ]
  },
  {
   "cell_type": "markdown",
   "metadata": {},
   "source": [
    "The multinomial distribution gave a score of 0.647 but we have to set a barrier in order to know how good that was. Stil not better than ExtraTreesClassifier."
   ]
  },
  {
   "cell_type": "code",
   "execution_count": 36,
   "metadata": {},
   "outputs": [
    {
     "name": "stdout",
     "output_type": "stream",
     "text": [
      "[[156  47  17  39  17  74  13]\n",
      " [ 19 150  28   9  10  19  11]\n",
      " [ 25 159 322  10  12  78  14]\n",
      " [ 54  47   8 218   9  72  22]\n",
      " [  9   5   3   6  31   9   5]\n",
      " [ 25  17   9  17  12 137   8]\n",
      " [ 61  82  56  58  16 107 250]]\n",
      "              precision    recall  f1-score   support\n",
      "\n",
      "           0       0.45      0.43      0.44       363\n",
      "           1       0.30      0.61      0.40       246\n",
      "           2       0.73      0.52      0.61       620\n",
      "           3       0.61      0.51      0.55       430\n",
      "           4       0.29      0.46      0.35        68\n",
      "           5       0.28      0.61      0.38       225\n",
      "           6       0.77      0.40      0.52       630\n",
      "\n",
      "    accuracy                           0.49      2582\n",
      "   macro avg       0.49      0.50      0.47      2582\n",
      "weighted avg       0.59      0.49      0.51      2582\n",
      "\n",
      "0.4895429899302866\n"
     ]
    }
   ],
   "source": [
    "gauss = GaussianNB()\n",
    "scores = cross_val_score(gauss, X_train, y_train, cv=5)\n",
    "gauss.fit(X_train, y_train)\n",
    "gaus_pred = gauss.predict(X_test)\n",
    "print(confusion_matrix(y_test, gaus_pred))\n",
    "print(classification_report(y_test, gaus_pred))\n",
    "print(accuracy_score(y_test, gaus_pred))"
   ]
  },
  {
   "cell_type": "markdown",
   "metadata": {},
   "source": [
    "The last approach using Naive Bayes method proved below average so based on every other result we got so far it is really not so good for our case. <br>\n",
    "Finally we will try the DummyClassifier in order to set a baseline for our scores."
   ]
  },
  {
   "cell_type": "code",
   "execution_count": 37,
   "metadata": {},
   "outputs": [
    {
     "name": "stdout",
     "output_type": "stream",
     "text": [
      "[[  0   0 363   0   0   0   0]\n",
      " [  0   0 246   0   0   0   0]\n",
      " [  0   0 620   0   0   0   0]\n",
      " [  0   0 430   0   0   0   0]\n",
      " [  0   0  68   0   0   0   0]\n",
      " [  0   0 225   0   0   0   0]\n",
      " [  0   0 630   0   0   0   0]]\n",
      "              precision    recall  f1-score   support\n",
      "\n",
      "           0       0.00      0.00      0.00       363\n",
      "           1       0.00      0.00      0.00       246\n",
      "           2       0.24      1.00      0.39       620\n",
      "           3       0.00      0.00      0.00       430\n",
      "           4       0.00      0.00      0.00        68\n",
      "           5       0.00      0.00      0.00       225\n",
      "           6       0.00      0.00      0.00       630\n",
      "\n",
      "    accuracy                           0.24      2582\n",
      "   macro avg       0.03      0.14      0.06      2582\n",
      "weighted avg       0.06      0.24      0.09      2582\n",
      "\n",
      "0.24012393493415957\n"
     ]
    },
    {
     "name": "stderr",
     "output_type": "stream",
     "text": [
      "C:\\ProgramData\\Anaconda3\\lib\\site-packages\\sklearn\\metrics\\_classification.py:1268: UndefinedMetricWarning: Precision and F-score are ill-defined and being set to 0.0 in labels with no predicted samples. Use `zero_division` parameter to control this behavior.\n",
      "  _warn_prf(average, modifier, msg_start, len(result))\n"
     ]
    }
   ],
   "source": [
    "dummy = DummyClassifier(strategy='most_frequent',random_state=42)\n",
    "scores = cross_val_score(dummy, X_train, y_train, cv=5)\n",
    "dummy.fit(X_train, y_train)\n",
    "dummy_pred = dummy.predict(X_test)\n",
    "print(classification_report(y_test, dummy_pred))\n",
    "print(accuracy_score(y_test, dummy_pred))"
   ]
  },
  {
   "cell_type": "markdown",
   "metadata": {},
   "source": [
    "From the last score we can see that all our approaches did good and everyone of them at least doubled the score of the DummyClassifier who gave an accuracy score of 0.24. One of them stood out of the crowd and that was ExtraTreesClassifier which is the best approach for our case, succeeding in classification with 70% accuracy. <br>\n",
    "Now we can try to find the best parameters for the best classifier we found in order to see if we can do even better."
   ]
  },
  {
   "cell_type": "code",
   "execution_count": 80,
   "metadata": {},
   "outputs": [
    {
     "name": "stdout",
     "output_type": "stream",
     "text": [
      "Fitting 3 folds for each of 81 candidates, totalling 243 fits\n"
     ]
    },
    {
     "name": "stderr",
     "output_type": "stream",
     "text": [
      "[Parallel(n_jobs=3)]: Using backend LokyBackend with 3 concurrent workers.\n",
      "[Parallel(n_jobs=3)]: Done  35 tasks      | elapsed:    4.4s\n",
      "[Parallel(n_jobs=3)]: Done 156 tasks      | elapsed:  3.7min\n",
      "[Parallel(n_jobs=3)]: Done 243 out of 243 | elapsed:  6.8min finished\n"
     ]
    }
   ],
   "source": [
    "model = ExtraTreesClassifier(class_weight='balanced',\n",
    "                             n_estimators=50, \n",
    "                             max_depth=None,\n",
    "                             min_samples_split=2, \n",
    "                             random_state=42)\n",
    "\n",
    "parameters = {'criterion': ['entropy'],\n",
    "                       'min_samples_split' : [1, 2, 3],\n",
    "                       'max_depth' : [15,20,25],\n",
    "                      'n_estimators': [200,300,400],\n",
    "                      'max_features': ['log2'],\n",
    "                      'min_samples_leaf':range(0,3)\n",
    "             }\n",
    "\n",
    "\n",
    "clf = GridSearchCV(model, parameters, verbose=2, scoring='accuracy',\n",
    "                        cv=3, n_jobs=3)\n",
    "\n",
    "clf.fit(X_train,y_train)\n",
    "\n",
    "optimised_random_forest = clf.best_estimator_\n"
   ]
  },
  {
   "cell_type": "code",
   "execution_count": 81,
   "metadata": {},
   "outputs": [
    {
     "name": "stdout",
     "output_type": "stream",
     "text": [
      "[[213  21  25  33  18  41  12]\n",
      " [ 17 126  51  11   4  20  17]\n",
      " [ 22  30 520   3   4  29  12]\n",
      " [ 31  18  11 307   9  38  16]\n",
      " [  5   1   4   1  51   4   2]\n",
      " [ 19  12  19  19   3 138  15]\n",
      " [ 52  33  69  21  11  41 403]]\n",
      "              precision    recall  f1-score   support\n",
      "\n",
      "           0       0.59      0.59      0.59       363\n",
      "           1       0.52      0.51      0.52       246\n",
      "           2       0.74      0.84      0.79       620\n",
      "           3       0.78      0.71      0.74       430\n",
      "           4       0.51      0.75      0.61        68\n",
      "           5       0.44      0.61      0.51       225\n",
      "           6       0.84      0.64      0.73       630\n",
      "\n",
      "    accuracy                           0.68      2582\n",
      "   macro avg       0.63      0.66      0.64      2582\n",
      "weighted avg       0.70      0.68      0.68      2582\n",
      "\n",
      "0.6808675445391169\n"
     ]
    }
   ],
   "source": [
    "final_pred = optimised_random_forest.predict(X_test)\n",
    "print(confusion_matrix(y_test, final_pred))\n",
    "print(classification_report(y_test, final_pred))\n",
    "print(accuracy_score(y_test, final_pred))"
   ]
  },
  {
   "cell_type": "code",
   "execution_count": 73,
   "metadata": {},
   "outputs": [
    {
     "data": {
      "text/plain": [
       "ExtraTreesClassifier(bootstrap=False, ccp_alpha=0.0, class_weight='balanced',\n",
       "                     criterion='entropy', max_depth=20, max_features='log2',\n",
       "                     max_leaf_nodes=None, max_samples=None,\n",
       "                     min_impurity_decrease=0.0, min_impurity_split=None,\n",
       "                     min_samples_leaf=1, min_samples_split=2,\n",
       "                     min_weight_fraction_leaf=0.0, n_estimators=200,\n",
       "                     n_jobs=None, oob_score=False, random_state=42, verbose=0,\n",
       "                     warm_start=False)"
      ]
     },
     "execution_count": 73,
     "metadata": {},
     "output_type": "execute_result"
    }
   ],
   "source": [
    "optimised_random_forest"
   ]
  },
  {
   "cell_type": "markdown",
   "metadata": {},
   "source": [
    "Even though we seem to have found the best estimator given the parameters we provided, the score of 68% is lower and not higher than 70% which we expected to find."
   ]
  }
 ],
 "metadata": {
  "kernelspec": {
   "display_name": "Python 3",
   "language": "python",
   "name": "python3"
  },
  "language_info": {
   "codemirror_mode": {
    "name": "ipython",
    "version": 3
   },
   "file_extension": ".py",
   "mimetype": "text/x-python",
   "name": "python",
   "nbconvert_exporter": "python",
   "pygments_lexer": "ipython3",
   "version": "3.7.3"
  }
 },
 "nbformat": 4,
 "nbformat_minor": 2
}
